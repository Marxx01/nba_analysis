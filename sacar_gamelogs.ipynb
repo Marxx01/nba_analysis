{
 "cells": [
  {
   "cell_type": "markdown",
   "id": "c2bf8d61",
   "metadata": {},
   "source": [
    "# Obtención del dataSet de los gamelogs"
   ]
  },
  {
   "cell_type": "code",
   "execution_count": null,
   "id": "0fb080b2",
   "metadata": {},
   "outputs": [],
   "source": [
    "from nba_api.stats.static import players\n",
    "from nba_api.stats.endpoints import playergamelog\n",
    "from nba_api.stats.library.parameters import SeasonAll\n",
    "import pandas as pd\n",
    "\n",
    "p = players.get_players()"
   ]
  },
  {
   "cell_type": "code",
   "execution_count": null,
   "id": "e0277ed9",
   "metadata": {},
   "outputs": [],
   "source": [
    "df10 = pd.DataFrame()\n",
    "for i in range(len(p)):\n",
    "    print(p[i]['id'])\n",
    "    game_logs = playergamelog.PlayerGameLog(player_id = p[i]['id'], season=SeasonAll.all).get_data_frames()[0]\n",
    "    df10 = pd.concat([df10, game_logs], ignore_index=True)"
   ]
  },
  {
   "cell_type": "code",
   "execution_count": null,
   "id": "ff1eedf5",
   "metadata": {},
   "outputs": [],
   "source": [
    "df10"
   ]
  },
  {
   "cell_type": "code",
   "execution_count": null,
   "id": "80b1a32a",
   "metadata": {},
   "outputs": [],
   "source": [
    "del[df10['SEASON_ID']]\n",
    "del[df10['Game_ID']]\n",
    "del[df10['VIDEO_AVAILABLE']]"
   ]
  },
  {
   "cell_type": "code",
   "execution_count": null,
   "id": "25f2767e",
   "metadata": {},
   "outputs": [],
   "source": [
    "df10.to_csv('_gamelogs.csv', sep=';')"
   ]
  }
 ],
 "metadata": {
  "kernelspec": {
   "display_name": "Python 3 (ipykernel)",
   "language": "python",
   "name": "python3"
  },
  "language_info": {
   "codemirror_mode": {
    "name": "ipython",
    "version": 3
   },
   "file_extension": ".py",
   "mimetype": "text/x-python",
   "name": "python",
   "nbconvert_exporter": "python",
   "pygments_lexer": "ipython3",
   "version": "3.9.13"
  }
 },
 "nbformat": 4,
 "nbformat_minor": 5
}
